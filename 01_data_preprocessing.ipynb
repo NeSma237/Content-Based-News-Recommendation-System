{
  "nbformat": 4,
  "nbformat_minor": 0,
  "metadata": {
    "colab": {
      "provenance": [],
      "authorship_tag": "ABX9TyNOmpNq6CZvzjtBAC0UqWg6",
      "include_colab_link": true
    },
    "kernelspec": {
      "name": "python3",
      "display_name": "Python 3"
    },
    "language_info": {
      "name": "python"
    }
  },
  "cells": [
    {
      "cell_type": "markdown",
      "metadata": {
        "id": "view-in-github",
        "colab_type": "text"
      },
      "source": [
        "<a href=\"https://colab.research.google.com/github/NeSma237/Content-Based-News-Recommendation-System/blob/main/01_data_preprocessing.ipynb\" target=\"_parent\"><img src=\"https://colab.research.google.com/assets/colab-badge.svg\" alt=\"Open In Colab\"/></a>"
      ]
    },
    {
      "cell_type": "code",
      "source": [
        "import kagglehub\n",
        "\n",
        "# Download latest version\n",
        "path = kagglehub.dataset_download(\"arashnic/mind-news-dataset\")\n",
        "\n",
        "print(\"Path to dataset files:\", path)"
      ],
      "metadata": {
        "colab": {
          "base_uri": "https://localhost:8080/"
        },
        "id": "NLK4Tn_rc-w6",
        "outputId": "43b17c80-025c-4733-9371-2618524371ec"
      },
      "execution_count": 7,
      "outputs": [
        {
          "output_type": "stream",
          "name": "stdout",
          "text": [
            "Path to dataset files: /kaggle/input/mind-news-dataset\n"
          ]
        }
      ]
    },
    {
      "cell_type": "code",
      "execution_count": 11,
      "metadata": {
        "colab": {
          "base_uri": "https://localhost:8080/"
        },
        "id": "7Ii5jSVXb8UR",
        "outputId": "b49a0cf4-7928-4c16-aab9-df4254bf62ad"
      },
      "outputs": [
        {
          "output_type": "stream",
          "name": "stdout",
          "text": [
            "Requirement already satisfied: nltk in /usr/local/lib/python3.11/dist-packages (3.9.1)\n",
            "Requirement already satisfied: click in /usr/local/lib/python3.11/dist-packages (from nltk) (8.1.8)\n",
            "Requirement already satisfied: joblib in /usr/local/lib/python3.11/dist-packages (from nltk) (1.4.2)\n",
            "Requirement already satisfied: regex>=2021.8.3 in /usr/local/lib/python3.11/dist-packages (from nltk) (2024.11.6)\n",
            "Requirement already satisfied: tqdm in /usr/local/lib/python3.11/dist-packages (from nltk) (4.67.1)\n"
          ]
        }
      ],
      "source": [
        "!pip install nltk\n"
      ]
    },
    {
      "cell_type": "code",
      "source": [
        "import pandas as pd\n",
        "import os\n",
        "import nltk\n",
        "from sklearn.feature_extraction.text import TfidfVectorizer\n",
        "from nltk.corpus import stopwords\n",
        "import string\n",
        "\n",
        "# Download NLTK stopwords if not already\n",
        "nltk.download('stopwords')\n",
        "stop_words = set(stopwords.words('english'))\n"
      ],
      "metadata": {
        "colab": {
          "base_uri": "https://localhost:8080/"
        },
        "id": "35LfkDJQgV-N",
        "outputId": "229a9213-b233-420f-b844-a2179296b985"
      },
      "execution_count": 12,
      "outputs": [
        {
          "output_type": "stream",
          "name": "stderr",
          "text": [
            "[nltk_data] Downloading package stopwords to /root/nltk_data...\n",
            "[nltk_data]   Package stopwords is already up-to-date!\n"
          ]
        }
      ]
    },
    {
      "cell_type": "code",
      "source": [
        "import os\n",
        "\n",
        "base_path = '/kaggle/input/mind-news-dataset'\n",
        "print(\"Contents of base path:\")\n",
        "print(os.listdir(base_path))\n"
      ],
      "metadata": {
        "colab": {
          "base_uri": "https://localhost:8080/"
        },
        "id": "ulVEzOwhhAyO",
        "outputId": "d89d9ba8-49b4-4e40-a40b-304639022873"
      },
      "execution_count": 14,
      "outputs": [
        {
          "output_type": "stream",
          "name": "stdout",
          "text": [
            "Contents of base path:\n",
            "['MINDsmall_train', 'news.tsv']\n"
          ]
        }
      ]
    },
    {
      "cell_type": "code",
      "source": [
        "news_path = os.path.join(base_path, 'MINDsmall_train', 'news.tsv')  # example subdir\n",
        "columns = ['NewsID', 'Category', 'SubCategory', 'Title', 'Abstract', 'URL', 'TitleEntities', 'AbstractEntities']\n",
        "\n",
        "news_df = pd.read_csv(news_path, sep='\\t', names=columns, encoding='utf-8')\n",
        "news_df.head()\n"
      ],
      "metadata": {
        "colab": {
          "base_uri": "https://localhost:8080/",
          "height": 660
        },
        "id": "KMKkYcNUhMmm",
        "outputId": "53d9a010-a5b7-46c4-afd1-e3610b89f436"
      },
      "execution_count": 17,
      "outputs": [
        {
          "output_type": "execute_result",
          "data": {
            "text/plain": [
              "   NewsID   Category      SubCategory  \\\n",
              "0  N55528  lifestyle  lifestyleroyals   \n",
              "1  N19639     health       weightloss   \n",
              "2  N61837       news        newsworld   \n",
              "3  N53526     health           voices   \n",
              "4  N38324     health          medical   \n",
              "\n",
              "                                               Title  \\\n",
              "0  The Brands Queen Elizabeth, Prince Charles, an...   \n",
              "1                      50 Worst Habits For Belly Fat   \n",
              "2  The Cost of Trump's Aid Freeze in the Trenches...   \n",
              "3  I Was An NBA Wife. Here's How It Affected My M...   \n",
              "4  How to Get Rid of Skin Tags, According to a De...   \n",
              "\n",
              "                                            Abstract  \\\n",
              "0  Shop the notebooks, jackets, and more that the...   \n",
              "1  These seemingly harmless habits are holding yo...   \n",
              "2  Lt. Ivan Molchanets peeked over a parapet of s...   \n",
              "3  I felt like I was a fraud, and being an NBA wi...   \n",
              "4  They seem harmless, but there's a very good re...   \n",
              "\n",
              "                                             URL  \\\n",
              "0  https://assets.msn.com/labs/mind/AAGH0ET.html   \n",
              "1  https://assets.msn.com/labs/mind/AAB19MK.html   \n",
              "2  https://assets.msn.com/labs/mind/AAJgNsz.html   \n",
              "3  https://assets.msn.com/labs/mind/AACk2N6.html   \n",
              "4  https://assets.msn.com/labs/mind/AAAKEkt.html   \n",
              "\n",
              "                                       TitleEntities  \\\n",
              "0  [{\"Label\": \"Prince Philip, Duke of Edinburgh\",...   \n",
              "1  [{\"Label\": \"Adipose tissue\", \"Type\": \"C\", \"Wik...   \n",
              "2                                                 []   \n",
              "3                                                 []   \n",
              "4  [{\"Label\": \"Skin tag\", \"Type\": \"C\", \"WikidataI...   \n",
              "\n",
              "                                    AbstractEntities  \n",
              "0                                                 []  \n",
              "1  [{\"Label\": \"Adipose tissue\", \"Type\": \"C\", \"Wik...  \n",
              "2  [{\"Label\": \"Ukraine\", \"Type\": \"G\", \"WikidataId...  \n",
              "3  [{\"Label\": \"National Basketball Association\", ...  \n",
              "4  [{\"Label\": \"Skin tag\", \"Type\": \"C\", \"WikidataI...  "
            ],
            "text/html": [
              "\n",
              "  <div id=\"df-e85a78e7-fe77-44ab-8a5a-11f286b1e3aa\" class=\"colab-df-container\">\n",
              "    <div>\n",
              "<style scoped>\n",
              "    .dataframe tbody tr th:only-of-type {\n",
              "        vertical-align: middle;\n",
              "    }\n",
              "\n",
              "    .dataframe tbody tr th {\n",
              "        vertical-align: top;\n",
              "    }\n",
              "\n",
              "    .dataframe thead th {\n",
              "        text-align: right;\n",
              "    }\n",
              "</style>\n",
              "<table border=\"1\" class=\"dataframe\">\n",
              "  <thead>\n",
              "    <tr style=\"text-align: right;\">\n",
              "      <th></th>\n",
              "      <th>NewsID</th>\n",
              "      <th>Category</th>\n",
              "      <th>SubCategory</th>\n",
              "      <th>Title</th>\n",
              "      <th>Abstract</th>\n",
              "      <th>URL</th>\n",
              "      <th>TitleEntities</th>\n",
              "      <th>AbstractEntities</th>\n",
              "    </tr>\n",
              "  </thead>\n",
              "  <tbody>\n",
              "    <tr>\n",
              "      <th>0</th>\n",
              "      <td>N55528</td>\n",
              "      <td>lifestyle</td>\n",
              "      <td>lifestyleroyals</td>\n",
              "      <td>The Brands Queen Elizabeth, Prince Charles, an...</td>\n",
              "      <td>Shop the notebooks, jackets, and more that the...</td>\n",
              "      <td>https://assets.msn.com/labs/mind/AAGH0ET.html</td>\n",
              "      <td>[{\"Label\": \"Prince Philip, Duke of Edinburgh\",...</td>\n",
              "      <td>[]</td>\n",
              "    </tr>\n",
              "    <tr>\n",
              "      <th>1</th>\n",
              "      <td>N19639</td>\n",
              "      <td>health</td>\n",
              "      <td>weightloss</td>\n",
              "      <td>50 Worst Habits For Belly Fat</td>\n",
              "      <td>These seemingly harmless habits are holding yo...</td>\n",
              "      <td>https://assets.msn.com/labs/mind/AAB19MK.html</td>\n",
              "      <td>[{\"Label\": \"Adipose tissue\", \"Type\": \"C\", \"Wik...</td>\n",
              "      <td>[{\"Label\": \"Adipose tissue\", \"Type\": \"C\", \"Wik...</td>\n",
              "    </tr>\n",
              "    <tr>\n",
              "      <th>2</th>\n",
              "      <td>N61837</td>\n",
              "      <td>news</td>\n",
              "      <td>newsworld</td>\n",
              "      <td>The Cost of Trump's Aid Freeze in the Trenches...</td>\n",
              "      <td>Lt. Ivan Molchanets peeked over a parapet of s...</td>\n",
              "      <td>https://assets.msn.com/labs/mind/AAJgNsz.html</td>\n",
              "      <td>[]</td>\n",
              "      <td>[{\"Label\": \"Ukraine\", \"Type\": \"G\", \"WikidataId...</td>\n",
              "    </tr>\n",
              "    <tr>\n",
              "      <th>3</th>\n",
              "      <td>N53526</td>\n",
              "      <td>health</td>\n",
              "      <td>voices</td>\n",
              "      <td>I Was An NBA Wife. Here's How It Affected My M...</td>\n",
              "      <td>I felt like I was a fraud, and being an NBA wi...</td>\n",
              "      <td>https://assets.msn.com/labs/mind/AACk2N6.html</td>\n",
              "      <td>[]</td>\n",
              "      <td>[{\"Label\": \"National Basketball Association\", ...</td>\n",
              "    </tr>\n",
              "    <tr>\n",
              "      <th>4</th>\n",
              "      <td>N38324</td>\n",
              "      <td>health</td>\n",
              "      <td>medical</td>\n",
              "      <td>How to Get Rid of Skin Tags, According to a De...</td>\n",
              "      <td>They seem harmless, but there's a very good re...</td>\n",
              "      <td>https://assets.msn.com/labs/mind/AAAKEkt.html</td>\n",
              "      <td>[{\"Label\": \"Skin tag\", \"Type\": \"C\", \"WikidataI...</td>\n",
              "      <td>[{\"Label\": \"Skin tag\", \"Type\": \"C\", \"WikidataI...</td>\n",
              "    </tr>\n",
              "  </tbody>\n",
              "</table>\n",
              "</div>\n",
              "    <div class=\"colab-df-buttons\">\n",
              "\n",
              "  <div class=\"colab-df-container\">\n",
              "    <button class=\"colab-df-convert\" onclick=\"convertToInteractive('df-e85a78e7-fe77-44ab-8a5a-11f286b1e3aa')\"\n",
              "            title=\"Convert this dataframe to an interactive table.\"\n",
              "            style=\"display:none;\">\n",
              "\n",
              "  <svg xmlns=\"http://www.w3.org/2000/svg\" height=\"24px\" viewBox=\"0 -960 960 960\">\n",
              "    <path d=\"M120-120v-720h720v720H120Zm60-500h600v-160H180v160Zm220 220h160v-160H400v160Zm0 220h160v-160H400v160ZM180-400h160v-160H180v160Zm440 0h160v-160H620v160ZM180-180h160v-160H180v160Zm440 0h160v-160H620v160Z\"/>\n",
              "  </svg>\n",
              "    </button>\n",
              "\n",
              "  <style>\n",
              "    .colab-df-container {\n",
              "      display:flex;\n",
              "      gap: 12px;\n",
              "    }\n",
              "\n",
              "    .colab-df-convert {\n",
              "      background-color: #E8F0FE;\n",
              "      border: none;\n",
              "      border-radius: 50%;\n",
              "      cursor: pointer;\n",
              "      display: none;\n",
              "      fill: #1967D2;\n",
              "      height: 32px;\n",
              "      padding: 0 0 0 0;\n",
              "      width: 32px;\n",
              "    }\n",
              "\n",
              "    .colab-df-convert:hover {\n",
              "      background-color: #E2EBFA;\n",
              "      box-shadow: 0px 1px 2px rgba(60, 64, 67, 0.3), 0px 1px 3px 1px rgba(60, 64, 67, 0.15);\n",
              "      fill: #174EA6;\n",
              "    }\n",
              "\n",
              "    .colab-df-buttons div {\n",
              "      margin-bottom: 4px;\n",
              "    }\n",
              "\n",
              "    [theme=dark] .colab-df-convert {\n",
              "      background-color: #3B4455;\n",
              "      fill: #D2E3FC;\n",
              "    }\n",
              "\n",
              "    [theme=dark] .colab-df-convert:hover {\n",
              "      background-color: #434B5C;\n",
              "      box-shadow: 0px 1px 3px 1px rgba(0, 0, 0, 0.15);\n",
              "      filter: drop-shadow(0px 1px 2px rgba(0, 0, 0, 0.3));\n",
              "      fill: #FFFFFF;\n",
              "    }\n",
              "  </style>\n",
              "\n",
              "    <script>\n",
              "      const buttonEl =\n",
              "        document.querySelector('#df-e85a78e7-fe77-44ab-8a5a-11f286b1e3aa button.colab-df-convert');\n",
              "      buttonEl.style.display =\n",
              "        google.colab.kernel.accessAllowed ? 'block' : 'none';\n",
              "\n",
              "      async function convertToInteractive(key) {\n",
              "        const element = document.querySelector('#df-e85a78e7-fe77-44ab-8a5a-11f286b1e3aa');\n",
              "        const dataTable =\n",
              "          await google.colab.kernel.invokeFunction('convertToInteractive',\n",
              "                                                    [key], {});\n",
              "        if (!dataTable) return;\n",
              "\n",
              "        const docLinkHtml = 'Like what you see? Visit the ' +\n",
              "          '<a target=\"_blank\" href=https://colab.research.google.com/notebooks/data_table.ipynb>data table notebook</a>'\n",
              "          + ' to learn more about interactive tables.';\n",
              "        element.innerHTML = '';\n",
              "        dataTable['output_type'] = 'display_data';\n",
              "        await google.colab.output.renderOutput(dataTable, element);\n",
              "        const docLink = document.createElement('div');\n",
              "        docLink.innerHTML = docLinkHtml;\n",
              "        element.appendChild(docLink);\n",
              "      }\n",
              "    </script>\n",
              "  </div>\n",
              "\n",
              "\n",
              "    <div id=\"df-e3d06908-3cb7-4df0-b898-64546ba642a4\">\n",
              "      <button class=\"colab-df-quickchart\" onclick=\"quickchart('df-e3d06908-3cb7-4df0-b898-64546ba642a4')\"\n",
              "                title=\"Suggest charts\"\n",
              "                style=\"display:none;\">\n",
              "\n",
              "<svg xmlns=\"http://www.w3.org/2000/svg\" height=\"24px\"viewBox=\"0 0 24 24\"\n",
              "     width=\"24px\">\n",
              "    <g>\n",
              "        <path d=\"M19 3H5c-1.1 0-2 .9-2 2v14c0 1.1.9 2 2 2h14c1.1 0 2-.9 2-2V5c0-1.1-.9-2-2-2zM9 17H7v-7h2v7zm4 0h-2V7h2v10zm4 0h-2v-4h2v4z\"/>\n",
              "    </g>\n",
              "</svg>\n",
              "      </button>\n",
              "\n",
              "<style>\n",
              "  .colab-df-quickchart {\n",
              "      --bg-color: #E8F0FE;\n",
              "      --fill-color: #1967D2;\n",
              "      --hover-bg-color: #E2EBFA;\n",
              "      --hover-fill-color: #174EA6;\n",
              "      --disabled-fill-color: #AAA;\n",
              "      --disabled-bg-color: #DDD;\n",
              "  }\n",
              "\n",
              "  [theme=dark] .colab-df-quickchart {\n",
              "      --bg-color: #3B4455;\n",
              "      --fill-color: #D2E3FC;\n",
              "      --hover-bg-color: #434B5C;\n",
              "      --hover-fill-color: #FFFFFF;\n",
              "      --disabled-bg-color: #3B4455;\n",
              "      --disabled-fill-color: #666;\n",
              "  }\n",
              "\n",
              "  .colab-df-quickchart {\n",
              "    background-color: var(--bg-color);\n",
              "    border: none;\n",
              "    border-radius: 50%;\n",
              "    cursor: pointer;\n",
              "    display: none;\n",
              "    fill: var(--fill-color);\n",
              "    height: 32px;\n",
              "    padding: 0;\n",
              "    width: 32px;\n",
              "  }\n",
              "\n",
              "  .colab-df-quickchart:hover {\n",
              "    background-color: var(--hover-bg-color);\n",
              "    box-shadow: 0 1px 2px rgba(60, 64, 67, 0.3), 0 1px 3px 1px rgba(60, 64, 67, 0.15);\n",
              "    fill: var(--button-hover-fill-color);\n",
              "  }\n",
              "\n",
              "  .colab-df-quickchart-complete:disabled,\n",
              "  .colab-df-quickchart-complete:disabled:hover {\n",
              "    background-color: var(--disabled-bg-color);\n",
              "    fill: var(--disabled-fill-color);\n",
              "    box-shadow: none;\n",
              "  }\n",
              "\n",
              "  .colab-df-spinner {\n",
              "    border: 2px solid var(--fill-color);\n",
              "    border-color: transparent;\n",
              "    border-bottom-color: var(--fill-color);\n",
              "    animation:\n",
              "      spin 1s steps(1) infinite;\n",
              "  }\n",
              "\n",
              "  @keyframes spin {\n",
              "    0% {\n",
              "      border-color: transparent;\n",
              "      border-bottom-color: var(--fill-color);\n",
              "      border-left-color: var(--fill-color);\n",
              "    }\n",
              "    20% {\n",
              "      border-color: transparent;\n",
              "      border-left-color: var(--fill-color);\n",
              "      border-top-color: var(--fill-color);\n",
              "    }\n",
              "    30% {\n",
              "      border-color: transparent;\n",
              "      border-left-color: var(--fill-color);\n",
              "      border-top-color: var(--fill-color);\n",
              "      border-right-color: var(--fill-color);\n",
              "    }\n",
              "    40% {\n",
              "      border-color: transparent;\n",
              "      border-right-color: var(--fill-color);\n",
              "      border-top-color: var(--fill-color);\n",
              "    }\n",
              "    60% {\n",
              "      border-color: transparent;\n",
              "      border-right-color: var(--fill-color);\n",
              "    }\n",
              "    80% {\n",
              "      border-color: transparent;\n",
              "      border-right-color: var(--fill-color);\n",
              "      border-bottom-color: var(--fill-color);\n",
              "    }\n",
              "    90% {\n",
              "      border-color: transparent;\n",
              "      border-bottom-color: var(--fill-color);\n",
              "    }\n",
              "  }\n",
              "</style>\n",
              "\n",
              "      <script>\n",
              "        async function quickchart(key) {\n",
              "          const quickchartButtonEl =\n",
              "            document.querySelector('#' + key + ' button');\n",
              "          quickchartButtonEl.disabled = true;  // To prevent multiple clicks.\n",
              "          quickchartButtonEl.classList.add('colab-df-spinner');\n",
              "          try {\n",
              "            const charts = await google.colab.kernel.invokeFunction(\n",
              "                'suggestCharts', [key], {});\n",
              "          } catch (error) {\n",
              "            console.error('Error during call to suggestCharts:', error);\n",
              "          }\n",
              "          quickchartButtonEl.classList.remove('colab-df-spinner');\n",
              "          quickchartButtonEl.classList.add('colab-df-quickchart-complete');\n",
              "        }\n",
              "        (() => {\n",
              "          let quickchartButtonEl =\n",
              "            document.querySelector('#df-e3d06908-3cb7-4df0-b898-64546ba642a4 button');\n",
              "          quickchartButtonEl.style.display =\n",
              "            google.colab.kernel.accessAllowed ? 'block' : 'none';\n",
              "        })();\n",
              "      </script>\n",
              "    </div>\n",
              "\n",
              "    </div>\n",
              "  </div>\n"
            ],
            "application/vnd.google.colaboratory.intrinsic+json": {
              "type": "dataframe",
              "variable_name": "news_df",
              "summary": "{\n  \"name\": \"news_df\",\n  \"rows\": 51282,\n  \"fields\": [\n    {\n      \"column\": \"NewsID\",\n      \"properties\": {\n        \"dtype\": \"string\",\n        \"num_unique_values\": 51282,\n        \"samples\": [\n          \"N7433\",\n          \"N43326\",\n          \"N45745\"\n        ],\n        \"semantic_type\": \"\",\n        \"description\": \"\"\n      }\n    },\n    {\n      \"column\": \"Category\",\n      \"properties\": {\n        \"dtype\": \"category\",\n        \"num_unique_values\": 17,\n        \"samples\": [\n          \"lifestyle\",\n          \"health\",\n          \"entertainment\"\n        ],\n        \"semantic_type\": \"\",\n        \"description\": \"\"\n      }\n    },\n    {\n      \"column\": \"SubCategory\",\n      \"properties\": {\n        \"dtype\": \"category\",\n        \"num_unique_values\": 264,\n        \"samples\": [\n          \"musicnews\",\n          \"tunedin\",\n          \"finance-career-education\"\n        ],\n        \"semantic_type\": \"\",\n        \"description\": \"\"\n      }\n    },\n    {\n      \"column\": \"Title\",\n      \"properties\": {\n        \"dtype\": \"string\",\n        \"num_unique_values\": 50434,\n        \"samples\": [\n          \"Hundreds of thousands of people in California are downriver of a dam that 'could fail'\",\n          \"State Department finds no 'deliberate mishandling of classified information' related to Clinton email server\",\n          \"Over 13,000 Nationals fans attend Game 7 watch party at Nationals Park\"\n        ],\n        \"semantic_type\": \"\",\n        \"description\": \"\"\n      }\n    },\n    {\n      \"column\": \"Abstract\",\n      \"properties\": {\n        \"dtype\": \"string\",\n        \"num_unique_values\": 47309,\n        \"samples\": [\n          \"KFC recently announced that it would be adding bone-in chicken wings to its menu permanently.\",\n          \"A Greenville woman is accused of kidnapping a girl from Minnesota, bringing her to Greenville and sexually assaulting her, according to an FBI affidavit. The affidavit said authorities were notified on Sept. 8 that a girl, who is under 12 years old, was kidnapped from South St. Paul and had traveled to South Carolina between Sept. 6 and 8. Investigators said they got information that the child may be at 23-year-old Katrina Marie Aliff's...\",\n          \"This is only the fourth impeachment proceeding in our nation's history - and it could stretch into an election year. Former Democratic Congressman Steve Israel and former Hillary Clinton campaign adviser Adrienne Elrod join Chris Jansing to discuss how it could hurt - or help - certain 2020 candidates.\"\n        ],\n        \"semantic_type\": \"\",\n        \"description\": \"\"\n      }\n    },\n    {\n      \"column\": \"URL\",\n      \"properties\": {\n        \"dtype\": \"string\",\n        \"num_unique_values\": 51281,\n        \"samples\": [\n          \"https://assets.msn.com/labs/mind/AAJmWCa.html\",\n          \"https://assets.msn.com/labs/mind/AAIZ3GP.html\",\n          \"https://assets.msn.com/labs/mind/AAILU2e.html\"\n        ],\n        \"semantic_type\": \"\",\n        \"description\": \"\"\n      }\n    },\n    {\n      \"column\": \"TitleEntities\",\n      \"properties\": {\n        \"dtype\": \"string\",\n        \"num_unique_values\": 34472,\n        \"samples\": [\n          \"[{\\\"Label\\\": \\\"Chrissy Teigen\\\", \\\"Type\\\": \\\"P\\\", \\\"WikidataId\\\": \\\"Q5111202\\\", \\\"Confidence\\\": 1.0, \\\"OccurrenceOffsets\\\": [0], \\\"SurfaceForms\\\": [\\\"Chrissy Teigen\\\"]}, {\\\"Label\\\": \\\"John Legend\\\", \\\"Type\\\": \\\"P\\\", \\\"WikidataId\\\": \\\"Q44857\\\", \\\"Confidence\\\": 1.0, \\\"OccurrenceOffsets\\\": [19], \\\"SurfaceForms\\\": [\\\"John Legend\\\"]}, {\\\"Label\\\": \\\"Donald Trump\\\", \\\"Type\\\": \\\"P\\\", \\\"WikidataId\\\": \\\"Q22686\\\", \\\"Confidence\\\": 1.0, \\\"OccurrenceOffsets\\\": [57], \\\"SurfaceForms\\\": [\\\"Trump\\\"]}]\",\n          \"[{\\\"Label\\\": \\\"McDonald's\\\", \\\"Type\\\": \\\"O\\\", \\\"WikidataId\\\": \\\"Q38076\\\", \\\"Confidence\\\": 1.0, \\\"OccurrenceOffsets\\\": [22], \\\"SurfaceForms\\\": [\\\"McDonald's\\\"]}]\",\n          \"[{\\\"Label\\\": \\\"Dan Quinn (American football)\\\", \\\"Type\\\": \\\"P\\\", \\\"WikidataId\\\": \\\"Q5214234\\\", \\\"Confidence\\\": 0.992, \\\"OccurrenceOffsets\\\": [38], \\\"SurfaceForms\\\": [\\\"Dan Quinn\\\"]}]\"\n        ],\n        \"semantic_type\": \"\",\n        \"description\": \"\"\n      }\n    },\n    {\n      \"column\": \"AbstractEntities\",\n      \"properties\": {\n        \"dtype\": \"string\",\n        \"num_unique_values\": 36277,\n        \"samples\": [\n          \"[{\\\"Label\\\": \\\"Santa Anita Park\\\", \\\"Type\\\": \\\"F\\\", \\\"WikidataId\\\": \\\"Q1126370\\\", \\\"Confidence\\\": 1.0, \\\"OccurrenceOffsets\\\": [10], \\\"SurfaceForms\\\": [\\\"Santa Anita Park\\\"]}]\",\n          \"[{\\\"Label\\\": \\\"Lexington, Kentucky\\\", \\\"Type\\\": \\\"G\\\", \\\"WikidataId\\\": \\\"Q49241\\\", \\\"Confidence\\\": 1.0, \\\"OccurrenceOffsets\\\": [0], \\\"SurfaceForms\\\": [\\\"LEXINGTON\\\"]}, {\\\"Label\\\": \\\"Immanuel Quickley\\\", \\\"Type\\\": \\\"N\\\", \\\"WikidataId\\\": \\\"Q55433150\\\", \\\"Confidence\\\": 1.0, \\\"OccurrenceOffsets\\\": [27, 300], \\\"SurfaceForms\\\": [\\\"Immanuel Quickley\\\", \\\"Quickley\\\"]}, {\\\"Label\\\": \\\"AP Poll\\\", \\\"Type\\\": \\\"U\\\", \\\"WikidataId\\\": \\\"Q4653492\\\", \\\"Confidence\\\": 1.0, \\\"OccurrenceOffsets\\\": [140], \\\"SurfaceForms\\\": [\\\"Top 25\\\"]}, {\\\"Label\\\": \\\"Associated Press\\\", \\\"Type\\\": \\\"O\\\", \\\"WikidataId\\\": \\\"Q40469\\\", \\\"Confidence\\\": 0.991, \\\"OccurrenceOffsets\\\": [119], \\\"SurfaceForms\\\": [\\\"The Associated Press\\\"]}]\",\n          \"[{\\\"Label\\\": \\\"Hennepin County Medical Center\\\", \\\"Type\\\": \\\"F\\\", \\\"WikidataId\\\": \\\"Q5714832\\\", \\\"Confidence\\\": 1.0, \\\"OccurrenceOffsets\\\": [248], \\\"SurfaceForms\\\": [\\\"Hennepin Healthcare\\\"]}, {\\\"Label\\\": \\\"Medicaid\\\", \\\"Type\\\": \\\"U\\\", \\\"WikidataId\\\": \\\"Q1141363\\\", \\\"Confidence\\\": 1.0, \\\"OccurrenceOffsets\\\": [212], \\\"SurfaceForms\\\": [\\\"Medicaid\\\"]}, {\\\"Label\\\": \\\"Presidency of Donald Trump\\\", \\\"Type\\\": \\\"U\\\", \\\"WikidataId\\\": \\\"Q27809653\\\", \\\"Confidence\\\": 0.976, \\\"OccurrenceOffsets\\\": [129], \\\"SurfaceForms\\\": [\\\"Trump administration\\\"]}]\"\n        ],\n        \"semantic_type\": \"\",\n        \"description\": \"\"\n      }\n    }\n  ]\n}"
            }
          },
          "metadata": {},
          "execution_count": 17
        }
      ]
    },
    {
      "cell_type": "code",
      "source": [
        "def clean_text(text):\n",
        "    if pd.isnull(text):\n",
        "        return \"\"\n",
        "    # Lowercase, remove punctuation, and stopwords\n",
        "    text = text.lower()\n",
        "    text = text.translate(str.maketrans('', '', string.punctuation))\n",
        "    tokens = text.split()\n",
        "    tokens = [word for word in tokens if word not in stop_words]\n",
        "    return ' '.join(tokens)\n",
        "\n",
        "# Apply to Title and Abstract\n",
        "news_df['clean_title'] = news_df['Title'].apply(clean_text)\n",
        "news_df['clean_abstract'] = news_df['Abstract'].apply(clean_text)\n",
        "\n"
      ],
      "metadata": {
        "id": "xQ9uwuQHga-h"
      },
      "execution_count": 18,
      "outputs": []
    },
    {
      "cell_type": "code",
      "source": [
        "# Example using combined text\n",
        "news_df['combined_text'] = news_df['clean_title'] + ' ' + news_df['clean_abstract']\n",
        "\n",
        "vectorizer = TfidfVectorizer(max_features=5000)  # or any number of features you want\n",
        "tfidf_matrix = vectorizer.fit_transform(news_df['combined_text'])\n",
        "\n",
        "print(\"TF-IDF matrix shape:\", tfidf_matrix.shape)\n"
      ],
      "metadata": {
        "colab": {
          "base_uri": "https://localhost:8080/"
        },
        "id": "Dstfu0LYhiis",
        "outputId": "8411ad3d-e695-4753-df65-0e4a3d52d74f"
      },
      "execution_count": 19,
      "outputs": [
        {
          "output_type": "stream",
          "name": "stdout",
          "text": [
            "TF-IDF matrix shape: (51282, 5000)\n"
          ]
        }
      ]
    }
  ]
}